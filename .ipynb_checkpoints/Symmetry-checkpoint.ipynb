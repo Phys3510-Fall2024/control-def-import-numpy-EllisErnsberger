{
 "cells": [
  {
   "cell_type": "code",
   "execution_count": 5,
   "id": "114d6624-eb5d-4ecc-bd3c-93392d0fd76d",
   "metadata": {},
   "outputs": [
    {
     "ename": "SyntaxError",
     "evalue": "invalid syntax (794028606.py, line 42)",
     "output_type": "error",
     "traceback": [
      "\u001b[1;36m  Cell \u001b[1;32mIn[5], line 42\u001b[1;36m\u001b[0m\n\u001b[1;33m    | 1D object    | identity | inversion | mirror_z | mirror_y | rotation_x_180 |\u001b[0m\n\u001b[1;37m    ^\u001b[0m\n\u001b[1;31mSyntaxError\u001b[0m\u001b[1;31m:\u001b[0m invalid syntax\n"
     ]
    }
   ],
   "source": [
    "import numpy as np\n",
    "\n",
    "x = np.array [1, 0, 0]\n",
    "y = np.array [0, 1, 0]\n",
    "z = np.array [0, 0, 1]\n",
    "\n",
    "scalar = np.dot(x, y)                     # dot product of x and y\n",
    "pseudoscalar = np.dot(z, np.cross(x, y))  # scalar triple product\n",
    "polar_vector = z                          # no operation to z \n",
    "axial_vector = np.cross(x, y)             # cross product of x and y \n",
    "\n",
    "identity = np.array(\n",
    "         [[ 1, 0, 0]\n",
    "         ,[ 0, 1, 0]\n",
    "         ,[ 0, 0, 1]]\n",
    ") # identitiy operation\n",
    "\n",
    "inversion = np.array(\n",
    "        [[-1,  0,  0]\n",
    "        ,[ 0, -1,  0]\n",
    "        ,[ 0,  0, -1]]\n",
    ") # inversion operation\n",
    "\n",
    "mirror_z = np.array(\n",
    "        [[1,  0,  0]\n",
    "        ,[ 0, 1,  0]\n",
    "        ,[ 0,  0, -1]]\n",
    ") # mirror in the xy-plane\n",
    "\n",
    "mirror_y = np.array(\n",
    "        [[1,  0,  0]\n",
    "        ,[ 0, -1,  0]\n",
    "        ,[ 0,  0, 1]]\n",
    ") # mirror in the xz-plane\n",
    "\n",
    "rotation_x_180 = np.array(\n",
    "        [[1,  0,  0]\n",
    "        ,[ 0, -1,  0]\n",
    "        ,[ 0,  0, -1]]\n",
    ") # 180 rotation about the x axis\n",
    "\n",
    "| 1D object    | identity | inversion | mirror_z | mirror_y | rotation_x_180 |\n",
    "|--------------|----------|-----------|----------|----------|----------------|\n",
    "| scalar       | 1        | 1         | 1        |-1        | 1              |\n",
    "| pseudoscalar | 1        |-1         | 1        | 1        |-1              |\n",
    "| polar vector | 1        | 1         |-1        | 1        |-1              |\n",
    "| axial vector | 1        |-1         |-1        |-1        | 1              |"
   ]
  },
  {
   "cell_type": "code",
   "execution_count": null,
   "id": "2719b613-ead3-473c-ab21-8e27dc5bce0d",
   "metadata": {},
   "outputs": [],
   "source": []
  }
 ],
 "metadata": {
  "kernelspec": {
   "display_name": "Python 3 (ipykernel)",
   "language": "python",
   "name": "python3"
  },
  "language_info": {
   "codemirror_mode": {
    "name": "ipython",
    "version": 3
   },
   "file_extension": ".py",
   "mimetype": "text/x-python",
   "name": "python",
   "nbconvert_exporter": "python",
   "pygments_lexer": "ipython3",
   "version": "3.9.19"
  }
 },
 "nbformat": 4,
 "nbformat_minor": 5
}

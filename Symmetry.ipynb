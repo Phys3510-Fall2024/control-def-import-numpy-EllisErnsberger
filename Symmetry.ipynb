{
 "cells": [
  {
   "cell_type": "code",
   "execution_count": 2,
   "id": "531942a3-8de4-47c8-9a2a-165783464561",
   "metadata": {},
   "outputs": [],
   "source": [
    "import numpy as np\n",
    "\n",
    "a = np.array([1, 0, 0])\n",
    "b = np.array([0, 1, 0])\n",
    "c = np.array([0, 0, 1])\n",
    "\n",
    "x = a\n",
    "y = b\n",
    "z = c\n",
    "\n",
    "scalar = np.dot(z, z)                     # dot product of z and z\n",
    "pseudoscalar = np.dot(z, np.cross(x, y))  # scalar triple product\n",
    "polar_vector = z                          # no operation to z \n",
    "axial_vector = np.cross(x, y)             # cross product of x and y "
   ]
  },
  {
   "cell_type": "code",
   "execution_count": 4,
   "id": "20b7b1c5-55a0-4d5b-a423-f1924157d3f2",
   "metadata": {},
   "outputs": [],
   "source": [
    "# identitiy operation\n",
    "identity = np.array([\n",
    "    [1, 0, 0],\n",
    "    [0, 1, 0],\n",
    "    [ 0, 0, 1]\n",
    "]) \n",
    "\n",
    "# inversion operation\n",
    "inversion = np.array([\n",
    "    [-1, 0, 0],\n",
    "    [0, -1, 0],\n",
    "    [0, 0, -1],\n",
    "]) \n",
    "\n",
    "# mirror in the xy-plane\n",
    "mirror_z = np.array([\n",
    "    [1, 0,  0],\n",
    "    [0, 1,  0],\n",
    "    [0, 0, -1],\n",
    "]) \n",
    "\n",
    "# mirror in the xz-plane\n",
    "mirror_y = np.array([\n",
    "    [1,  0, 0],\n",
    "    [0, -1, 0],\n",
    "    [0,  0, 1],\n",
    "]) \n",
    "\n",
    "# 180 rotation about the x axis\n",
    "rotation_x_180 = np.array([\n",
    "    [1,  0,  0],\n",
    "    [0, -1,  0],\n",
    "    [0,  0, -1],\n",
    "]) \n",
    "\n",
    "# testing operations \n",
    "operations = {\n",
    "    \"identity\": identity,\n",
    "    \"inversion\": inversion,\n",
    "    \"mirror_z\": mirror_z,\n",
    "    \"mirror_y\": mirror_y,\n",
    "    \"rotation_x_180\": rotation_x_180\n",
    "}\n",
    "\n",
    "# defining example objects\n",
    "scalar = 1        # example scalar\n",
    "pseudoscalar = 1  # example pseudoscalar\n",
    "polar_vector = 1  # example polar vector\n",
    "axial_vector = 1  # example axial vector\n",
    "\n",
    "results = []"
   ]
  },
  {
   "cell_type": "markdown",
   "id": "d4e2a5eb-9bae-4372-a4fb-f9d69579703d",
   "metadata": {},
   "source": [
    "| 1D object    | identity | inversion | mirror_z | mirror_y | rotation_x_180 |\n",
    "|--------------|----------|-----------|----------|----------|----------------|\n",
    "| scalar       | 1        | 1         | 1        | 1        | 1              |\n",
    "| pseudoscalar | 1        |-1         |-1        |-1        |-1              |\n",
    "| polar vector | 1        |-1         |-1        | 1        |-1              |\n",
    "| axial vector | 1        |-1         | 1        | 1        | 1              |"
   ]
  },
  {
   "cell_type": "code",
   "execution_count": null,
   "id": "2b638347-c06a-45e1-a565-7e84096af1ef",
   "metadata": {},
   "outputs": [],
   "source": []
  }
 ],
 "metadata": {
  "kernelspec": {
   "display_name": "Python 3 (ipykernel)",
   "language": "python",
   "name": "python3"
  },
  "language_info": {
   "codemirror_mode": {
    "name": "ipython",
    "version": 3
   },
   "file_extension": ".py",
   "mimetype": "text/x-python",
   "name": "python",
   "nbconvert_exporter": "python",
   "pygments_lexer": "ipython3",
   "version": "3.9.19"
  }
 },
 "nbformat": 4,
 "nbformat_minor": 5
}

{
 "cells": [
  {
   "cell_type": "markdown",
   "id": "4375758c-b044-466a-9c6b-04549d40745c",
   "metadata": {},
   "source": [
    "## Simple Harmonic Motion\n",
    "\n",
    "This function will output the position and velocity of a spring-mass system.\n",
    "\n",
    "The important equations are:\n",
    "\n",
    "1. The potential energy: $U = \\frac{1}{2}kx^2$\n",
    "2. The force: $F = - k x = m a = m \\ddot{x}$"
   ]
  },
  {
   "cell_type": "code",
   "execution_count": 19,
   "id": "ec9992aa-d1b0-4506-89e1-81e14c16eddb",
   "metadata": {},
   "outputs": [],
   "source": [
    "# import the math library \n",
    "import math\n",
    "#print(dir(math))\n",
    "\n",
    "# define our harmonic motion\n",
    "def harmonic_motion (t, omega, x0, v0):\n",
    "    \"\"\"\n",
    "    This function outputs the position and velocity of a harmonic oscillator (simple spring-mass system) at a ds\n",
    "\n",
    "    input:\n",
    "    t : time in seconds\n",
    "    omega : resonant frequency (omega = math.sqrt(k/m)\n",
    "    x0 : the initial position\n",
    "    v0 : the initial velocity\n",
    "\n",
    "    output/return:\n",
    "    x : position at time t\n",
    "    v : velocity at time t\n",
    "    \"\"\"\n",
    "    # position as a function of time\n",
    "    x = x0 * math.cos(omega * t) + (v0/omega) * math.sin(omega * t)\n",
    "\n",
    "    # velocity as a function of time\n",
    "    v = - omega * x0 * math.sin(omega * t) + v0 * math.cos(omega * t)\n",
    "    return x, v"
   ]
  },
  {
   "cell_type": "code",
   "execution_count": 18,
   "id": "22c3af7f-dc80-4a78-9677-a273046bfdf6",
   "metadata": {},
   "outputs": [
    {
     "data": {
      "text/plain": [
       "[-3.0999999999999996, -2.0000000000000004]"
      ]
     },
     "execution_count": 18,
     "metadata": {},
     "output_type": "execute_result"
    }
   ],
   "source": [
    "# testing our function\n",
    "omega = 1 # units to be determined \n",
    "time = 1*math.pi/omega # units to be determined\n",
    "initial_position = 3.1 # units to be determined\n",
    "initial_velocity = 2.0 # units to be determined\n",
    "position, velocity = harmonic_motion(time, omega, initial_position, initial_velocity)\n",
    "[position, velocity]"
   ]
  },
  {
   "cell_type": "code",
   "execution_count": null,
   "id": "f2f5d907-e78f-453a-91c8-51eb4436ddf9",
   "metadata": {},
   "outputs": [],
   "source": []
  }
 ],
 "metadata": {
  "kernelspec": {
   "display_name": "Python 3 (ipykernel)",
   "language": "python",
   "name": "python3"
  },
  "language_info": {
   "codemirror_mode": {
    "name": "ipython",
    "version": 3
   },
   "file_extension": ".py",
   "mimetype": "text/x-python",
   "name": "python",
   "nbconvert_exporter": "python",
   "pygments_lexer": "ipython3",
   "version": "3.9.19"
  }
 },
 "nbformat": 4,
 "nbformat_minor": 5
}
